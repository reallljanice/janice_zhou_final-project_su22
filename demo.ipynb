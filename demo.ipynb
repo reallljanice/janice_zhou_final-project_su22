{
 "cells": [
  {
   "cell_type": "code",
   "execution_count": 6,
   "id": "884f3173-8aaf-4e31-899d-d5cc5ea20d06",
   "metadata": {},
   "outputs": [],
   "source": [
    "import pandas as pd\n",
    "from sklearn.model_selection import train_test_split\n",
    "from sklearn.tree import DecisionTreeClassifier\n",
    "import numpy as np\n",
    "from csv import writer"
   ]
  },
  {
   "cell_type": "markdown",
   "id": "00a14e52-031b-42b6-8960-83779a64d5ad",
   "metadata": {},
   "source": [
    "### Initial Set Up of DBs (we use .csv files for simplification in this demo)"
   ]
  },
  {
   "cell_type": "code",
   "execution_count": 76,
   "id": "42a54d67-beee-4934-a388-6ec359e79c90",
   "metadata": {},
   "outputs": [
    {
     "data": {
      "text/html": [
       "<div>\n",
       "<style scoped>\n",
       "    .dataframe tbody tr th:only-of-type {\n",
       "        vertical-align: middle;\n",
       "    }\n",
       "\n",
       "    .dataframe tbody tr th {\n",
       "        vertical-align: top;\n",
       "    }\n",
       "\n",
       "    .dataframe thead th {\n",
       "        text-align: right;\n",
       "    }\n",
       "</style>\n",
       "<table border=\"1\" class=\"dataframe\">\n",
       "  <thead>\n",
       "    <tr style=\"text-align: right;\">\n",
       "      <th></th>\n",
       "      <th>name</th>\n",
       "      <th>age</th>\n",
       "      <th>sex</th>\n",
       "      <th>quote</th>\n",
       "      <th>date</th>\n",
       "      <th>diabetes_prob</th>\n",
       "      <th>cardio_prob</th>\n",
       "    </tr>\n",
       "  </thead>\n",
       "  <tbody>\n",
       "    <tr>\n",
       "      <th>0</th>\n",
       "      <td>Jason</td>\n",
       "      <td>41</td>\n",
       "      <td>0</td>\n",
       "      <td>1500</td>\n",
       "      <td>06/16/2020</td>\n",
       "      <td>1.0</td>\n",
       "      <td>1.0</td>\n",
       "    </tr>\n",
       "    <tr>\n",
       "      <th>1</th>\n",
       "      <td>Kevin</td>\n",
       "      <td>35</td>\n",
       "      <td>0</td>\n",
       "      <td>1000</td>\n",
       "      <td>03/02/2019</td>\n",
       "      <td>0.2</td>\n",
       "      <td>0.8</td>\n",
       "    </tr>\n",
       "    <tr>\n",
       "      <th>2</th>\n",
       "      <td>Katie</td>\n",
       "      <td>36</td>\n",
       "      <td>1</td>\n",
       "      <td>700</td>\n",
       "      <td>02/28/2019</td>\n",
       "      <td>0.6</td>\n",
       "      <td>0.1</td>\n",
       "    </tr>\n",
       "  </tbody>\n",
       "</table>\n",
       "</div>"
      ],
      "text/plain": [
       "    name  age  sex  quote        date  diabetes_prob  cardio_prob\n",
       "0  Jason   41    0   1500  06/16/2020            1.0          1.0\n",
       "1  Kevin   35    0   1000  03/02/2019            0.2          0.8\n",
       "2  Katie   36    1    700  02/28/2019            0.6          0.1"
      ]
     },
     "execution_count": 76,
     "metadata": {},
     "output_type": "execute_result"
    }
   ],
   "source": [
    "db2 = pd.read_csv('db2.csv')\n",
    "db2"
   ]
  },
  {
   "cell_type": "code",
   "execution_count": 7,
   "id": "978a5264-ddc2-49e7-b194-c6e2b3eb20a1",
   "metadata": {},
   "outputs": [],
   "source": [
    "def append_list_as_row(file_name, list_of_elem):\n",
    "    with open(file_name, 'a+', newline='') as write_obj:\n",
    "        csv_writer = writer(write_obj)\n",
    "        csv_writer.writerow(list_of_elem)"
   ]
  },
  {
   "cell_type": "markdown",
   "id": "5a4ab0bd-ba7c-47a8-8c38-88a3f0cb9e83",
   "metadata": {},
   "source": [
    "### Machine Learning Models"
   ]
  },
  {
   "cell_type": "code",
   "execution_count": 79,
   "id": "81705da1-f79b-447c-b801-8cc589bf257d",
   "metadata": {},
   "outputs": [
    {
     "data": {
      "text/plain": [
       "DecisionTreeClassifier(max_depth=8)"
      ]
     },
     "execution_count": 79,
     "metadata": {},
     "output_type": "execute_result"
    }
   ],
   "source": [
    "# diabetes prediction\n",
    "\n",
    "diabetes = pd.read_csv('diabetes.csv')\n",
    "diabetes = diabetes.dropna()\n",
    "X_d = diabetes.iloc[:,:8]\n",
    "y_d = diabetes.iloc[:,8]\n",
    "X_d_train, X_d_test, y_d_train, y_d_test = train_test_split(X_d, y_d, test_size=0.3, random_state=16)\n",
    "\n",
    "# the best performance model based on the project part 3\n",
    "dt_d = DecisionTreeClassifier(max_depth = 8)\n",
    "dt_d.fit(X_d_train, y_d_train)"
   ]
  },
  {
   "cell_type": "code",
   "execution_count": 5,
   "id": "ce8330ec-2016-4a45-8264-b901a6b8ce05",
   "metadata": {},
   "outputs": [
    {
     "data": {
      "text/plain": [
       "DecisionTreeClassifier(max_depth=8)"
      ]
     },
     "execution_count": 5,
     "metadata": {},
     "output_type": "execute_result"
    }
   ],
   "source": [
    "# cardiovascular prediction\n",
    "\n",
    "cardio = pd.read_csv('cardiovascular.csv')\n",
    "cardio = cardio.dropna()\n",
    "X_c = cardio.iloc[:,:13]\n",
    "y_c = cardio.iloc[:,13]\n",
    "X_c_train, X_c_test, y_c_train, y_c_test = train_test_split(X_c, y_c, test_size=0.3, random_state=16)\n",
    "\n",
    "# the best performance model based on the project part 3\n",
    "dt_c = DecisionTreeClassifier(max_depth = 8)\n",
    "dt_c.fit(X_c_train, y_c_train)"
   ]
  },
  {
   "cell_type": "markdown",
   "id": "d720d33d-ce98-4bb5-a9d0-27d69a23a6c4",
   "metadata": {},
   "source": [
    "### User Interface"
   ]
  },
  {
   "cell_type": "code",
   "execution_count": 36,
   "id": "a4424dca-aacc-43aa-add8-238d7d470b04",
   "metadata": {},
   "outputs": [
    {
     "name": "stdin",
     "output_type": "stream",
     "text": [
      "Hi, what's your name? Clement\n",
      "How old are you? 41\n",
      "What's your biological gender (0=M; 1=F)? 0\n",
      "Please enter your BMI:  34.3\n",
      "Please enter your plasma glucose concentration:  189\n",
      "Please enter your diastolic blood pressure (mm Hg):  104\n",
      "Please enter your triceps skin fold thickness (mm):  25\n",
      "Please enter your 2-Hour serum insulin (mu U/ml):  0\n",
      "Please enter your diabetes pedigree function result:  0.435\n",
      "Please enter your constrictive pericarditis level (0-3):  1\n",
      "Please enter your resting blood pressure (mm Hg):  105\n",
      "Please enter your cholesterol level (mg/dl):  198\n",
      "Is your FBS test positive? (0=N; 1=Y):  0\n",
      "How is your resting electrocardiographic result? (0=normal; 1=having ST-T wave abnormality; 2=showing probable or definite left ventricular hypertrophy by Estes criteria):  1\n",
      "Please enter your maximum heart rate achieved:  168\n",
      "Is your EXANG test positive? (0=N; 1=Y):  0\n",
      "Please enter your ST depression induced by exercise relative to rest:  0.0\n",
      "Please enter your slope of the peak exercise ST segment (0-2):  2\n",
      "Please enter your number of major vessels colored by flourosopy (0-4):  1\n",
      "Please enter your thalassemia level (0-3):  2\n"
     ]
    }
   ],
   "source": [
    "name = input(\"Hi, what's your name?\")\n",
    "\n",
    "# diabete-related information request\n",
    "age = int(input('How old are you?'))\n",
    "sex = int(input(\"What's your biological gender (0=M; 1=F)?\"))\n",
    "if sex == 1:\n",
    "    pregnancies = int(input('How many times have you been pregnanted?'))\n",
    "else:\n",
    "    pregnancies = 0\n",
    "bmi = float(input('Please enter your BMI: '))\n",
    "glucose = int(input('Please enter your plasma glucose concentration: '))\n",
    "bloodpressue = int(input('Please enter your diastolic blood pressure (mm Hg): '))\n",
    "skin = int(input('Please enter your triceps skin fold thickness (mm): '))\n",
    "insulin = int(input('Please enter your 2-Hour serum insulin (mu U/ml): '))\n",
    "pedigree = float(input('Please enter your diabetes pedigree function result: '))\n",
    "\n",
    "# cardiovascular disease-related informaion request\n",
    "cp = int(input('Please enter your constrictive pericarditis level (0-3): '))\n",
    "trestbps = int(input('Please enter your resting blood pressure (mm Hg): '))\n",
    "chol = int(input('Please enter your cholesterol level (mg/dl): '))\n",
    "fbs = int(input('Is your FBS test positive? (0=N; 1=Y): '))\n",
    "restecg = int(input('How is your resting electrocardiographic result? (0=normal; 1=having ST-T wave abnormality; 2=showing probable or definite left ventricular hypertrophy by Estes criteria): '))\n",
    "thalach = int(input('Please enter your maximum heart rate achieved: '))\n",
    "exang = int(input('Is your EXANG test positive? (0=N; 1=Y): '))\n",
    "oldpeak = float(input('Please enter your ST depression induced by exercise relative to rest: '))\n",
    "slope = int(input('Please enter your slope of the peak exercise ST segment (0-2): '))\n",
    "ca = int(input('Please enter your number of major vessels colored by flourosopy (0-4): '))\n",
    "thal = int(input('Please enter your thalassemia level (0-3): '))\n",
    "\n",
    "quote = 'pending'"
   ]
  },
  {
   "cell_type": "code",
   "execution_count": 42,
   "id": "14a40425-32c8-442f-acea-9a5e4fcbe3d7",
   "metadata": {},
   "outputs": [],
   "source": [
    "new_customer = [name, pregnancies, glucose, bloodpressue, skin, insulin, bmi, pedigree, age, sex,\n",
    "                cp, trestbps, chol, fbs, restecg, thalach, exang, oldpeak, slope, ca, thal, quote]\n",
    "append_list_as_row('db3.csv', new_customer)"
   ]
  },
  {
   "cell_type": "markdown",
   "id": "402f42a7-14dd-434a-92bf-5e00b93e414d",
   "metadata": {},
   "source": [
    "### Insurance Agent Analysis"
   ]
  },
  {
   "cell_type": "markdown",
   "id": "7d880747-e201-4815-b043-f5a5e2437260",
   "metadata": {},
   "source": [
    "#### Predict if this customer will get diabete or cardiovascular diseases"
   ]
  },
  {
   "cell_type": "code",
   "execution_count": 40,
   "id": "59cb1bf1-76ad-4b7a-a93a-43bba6e4dcbc",
   "metadata": {},
   "outputs": [
    {
     "name": "stderr",
     "output_type": "stream",
     "text": [
      "/Users/janice/opt/anaconda3/lib/python3.9/site-packages/sklearn/base.py:450: UserWarning: X does not have valid feature names, but DecisionTreeClassifier was fitted with feature names\n",
      "  warnings.warn(\n"
     ]
    },
    {
     "data": {
      "text/plain": [
       "array([[0., 1.]])"
      ]
     },
     "execution_count": 40,
     "metadata": {},
     "output_type": "execute_result"
    }
   ],
   "source": [
    "new_customer_d = [[pregnancies, glucose, bloodpressue, skin, insulin, bmi, pedigree, age]]\n",
    "dt_d.predict_proba(new_customer_d)"
   ]
  },
  {
   "cell_type": "markdown",
   "id": "6b369b3a-419a-4b78-b7b4-170f75fa6bd1",
   "metadata": {},
   "source": [
    "This new customer has 100% probability of getting diabete according to the machine learning model."
   ]
  },
  {
   "cell_type": "code",
   "execution_count": 41,
   "id": "154e6e53-8811-4a82-9e62-26a981b8069b",
   "metadata": {},
   "outputs": [
    {
     "name": "stderr",
     "output_type": "stream",
     "text": [
      "/Users/janice/opt/anaconda3/lib/python3.9/site-packages/sklearn/base.py:450: UserWarning: X does not have valid feature names, but DecisionTreeClassifier was fitted with feature names\n",
      "  warnings.warn(\n"
     ]
    },
    {
     "data": {
      "text/plain": [
       "array([[0., 1.]])"
      ]
     },
     "execution_count": 41,
     "metadata": {},
     "output_type": "execute_result"
    }
   ],
   "source": [
    "new_customer_c = [[age, sex, cp, trestbps, chol, fbs, restecg, thalach, exang, oldpeak, slope, ca, thal]]\n",
    "dt_c.predict_proba(new_customer_c)"
   ]
  },
  {
   "cell_type": "markdown",
   "id": "f6b392eb-d83d-41f2-b0b1-446f792ee3d7",
   "metadata": {},
   "source": [
    "This new customer has 100% probability of getting cardiovascular disease according to the machine learning model."
   ]
  },
  {
   "cell_type": "markdown",
   "id": "ceb5638c-6868-4434-b66b-a4c78dde7dd7",
   "metadata": {},
   "source": [
    "#### Compare with the historical completed orders"
   ]
  },
  {
   "cell_type": "code",
   "execution_count": 69,
   "id": "993a01cf-f6c0-4706-9cac-e7d3463388e6",
   "metadata": {},
   "outputs": [
    {
     "data": {
      "text/html": [
       "<div>\n",
       "<style scoped>\n",
       "    .dataframe tbody tr th:only-of-type {\n",
       "        vertical-align: middle;\n",
       "    }\n",
       "\n",
       "    .dataframe tbody tr th {\n",
       "        vertical-align: top;\n",
       "    }\n",
       "\n",
       "    .dataframe thead th {\n",
       "        text-align: right;\n",
       "    }\n",
       "</style>\n",
       "<table border=\"1\" class=\"dataframe\">\n",
       "  <thead>\n",
       "    <tr style=\"text-align: right;\">\n",
       "      <th></th>\n",
       "      <th>name</th>\n",
       "      <th>age</th>\n",
       "      <th>sex</th>\n",
       "      <th>quote</th>\n",
       "      <th>date</th>\n",
       "      <th>diabetes_prob</th>\n",
       "      <th>cardio_prob</th>\n",
       "    </tr>\n",
       "  </thead>\n",
       "  <tbody>\n",
       "    <tr>\n",
       "      <th>0</th>\n",
       "      <td>Jason</td>\n",
       "      <td>41</td>\n",
       "      <td>0</td>\n",
       "      <td>1500</td>\n",
       "      <td>06/16/2020</td>\n",
       "      <td>1.0</td>\n",
       "      <td>1.0</td>\n",
       "    </tr>\n",
       "  </tbody>\n",
       "</table>\n",
       "</div>"
      ],
      "text/plain": [
       "    name  age  sex  quote        date  diabetes_prob  cardio_prob\n",
       "0  Jason   41    0   1500  06/16/2020            1.0          1.0"
      ]
     },
     "execution_count": 69,
     "metadata": {},
     "output_type": "execute_result"
    }
   ],
   "source": [
    "diabetes_prob = 1\n",
    "cardio_prob = 1\n",
    "db2[(db2['age']==age) & (db2['sex']==sex) & (db2['diabetes_prob']==diabetes_prob) & (db2['cardio_prob']==cardio_prob)]"
   ]
  },
  {
   "cell_type": "markdown",
   "id": "a19305b5-3ab5-430d-8574-aedfa36050fd",
   "metadata": {},
   "source": [
    "This new customer Clement is very similar to Jason, whose insurance quote was $1,500 back in 2020. Consider into 2-year inflaion, Clement's quote should be $1,700."
   ]
  },
  {
   "cell_type": "markdown",
   "id": "603fbd82-e66d-4d2c-8c20-09bd4258338f",
   "metadata": {},
   "source": [
    "### Update the quote for this new order"
   ]
  },
  {
   "cell_type": "code",
   "execution_count": 70,
   "id": "cd09e868-e593-45aa-852c-e54fe8b72e7d",
   "metadata": {},
   "outputs": [
    {
     "data": {
      "text/html": [
       "<div>\n",
       "<style scoped>\n",
       "    .dataframe tbody tr th:only-of-type {\n",
       "        vertical-align: middle;\n",
       "    }\n",
       "\n",
       "    .dataframe tbody tr th {\n",
       "        vertical-align: top;\n",
       "    }\n",
       "\n",
       "    .dataframe thead th {\n",
       "        text-align: right;\n",
       "    }\n",
       "</style>\n",
       "<table border=\"1\" class=\"dataframe\">\n",
       "  <thead>\n",
       "    <tr style=\"text-align: right;\">\n",
       "      <th></th>\n",
       "      <th>name</th>\n",
       "      <th>pregnancies</th>\n",
       "      <th>glucose</th>\n",
       "      <th>bloodpressure</th>\n",
       "      <th>skin</th>\n",
       "      <th>insulin</th>\n",
       "      <th>bmi</th>\n",
       "      <th>pedigree</th>\n",
       "      <th>age</th>\n",
       "      <th>sex</th>\n",
       "      <th>...</th>\n",
       "      <th>chol</th>\n",
       "      <th>fbs</th>\n",
       "      <th>restecg</th>\n",
       "      <th>thalach</th>\n",
       "      <th>exang</th>\n",
       "      <th>oldpeak</th>\n",
       "      <th>slope</th>\n",
       "      <th>ca</th>\n",
       "      <th>thal</th>\n",
       "      <th>quote</th>\n",
       "    </tr>\n",
       "  </thead>\n",
       "  <tbody>\n",
       "    <tr>\n",
       "      <th>0</th>\n",
       "      <td>Clement</td>\n",
       "      <td>0</td>\n",
       "      <td>189</td>\n",
       "      <td>104</td>\n",
       "      <td>25</td>\n",
       "      <td>0</td>\n",
       "      <td>34.3</td>\n",
       "      <td>0.435</td>\n",
       "      <td>41</td>\n",
       "      <td>0</td>\n",
       "      <td>...</td>\n",
       "      <td>198</td>\n",
       "      <td>0</td>\n",
       "      <td>1</td>\n",
       "      <td>168</td>\n",
       "      <td>0</td>\n",
       "      <td>0.0</td>\n",
       "      <td>2</td>\n",
       "      <td>1</td>\n",
       "      <td>2</td>\n",
       "      <td>1700</td>\n",
       "    </tr>\n",
       "  </tbody>\n",
       "</table>\n",
       "<p>1 rows × 22 columns</p>\n",
       "</div>"
      ],
      "text/plain": [
       "      name  pregnancies  glucose  bloodpressure  skin  insulin   bmi  \\\n",
       "0  Clement            0      189            104    25        0  34.3   \n",
       "\n",
       "   pedigree  age  sex  ...  chol  fbs  restecg  thalach  exang  oldpeak  \\\n",
       "0     0.435   41    0  ...   198    0        1      168      0      0.0   \n",
       "\n",
       "   slope  ca  thal  quote  \n",
       "0      2   1     2   1700  \n",
       "\n",
       "[1 rows x 22 columns]"
      ]
     },
     "execution_count": 70,
     "metadata": {},
     "output_type": "execute_result"
    }
   ],
   "source": [
    "db3 = pd.read_csv('db3.csv')\n",
    "new_quote = 1700\n",
    "db3.loc[0, 'quote'] = new_quote\n",
    "db3"
   ]
  },
  {
   "cell_type": "code",
   "execution_count": 68,
   "id": "d44e25cf-6523-4d87-87c8-978c8810e630",
   "metadata": {},
   "outputs": [],
   "source": [
    "db3.to_csv('db3.csv', index=False)"
   ]
  },
  {
   "cell_type": "markdown",
   "id": "2367d431-380c-4250-a4a6-16191b9f627e",
   "metadata": {},
   "source": [
    "### If the customer accepts the order and complete the purchase"
   ]
  },
  {
   "cell_type": "code",
   "execution_count": 77,
   "id": "f6e50d15-758d-49a6-bb09-397b0a4a41ea",
   "metadata": {},
   "outputs": [
    {
     "data": {
      "text/html": [
       "<div>\n",
       "<style scoped>\n",
       "    .dataframe tbody tr th:only-of-type {\n",
       "        vertical-align: middle;\n",
       "    }\n",
       "\n",
       "    .dataframe tbody tr th {\n",
       "        vertical-align: top;\n",
       "    }\n",
       "\n",
       "    .dataframe thead th {\n",
       "        text-align: right;\n",
       "    }\n",
       "</style>\n",
       "<table border=\"1\" class=\"dataframe\">\n",
       "  <thead>\n",
       "    <tr style=\"text-align: right;\">\n",
       "      <th></th>\n",
       "      <th>name</th>\n",
       "      <th>age</th>\n",
       "      <th>sex</th>\n",
       "      <th>quote</th>\n",
       "      <th>date</th>\n",
       "      <th>diabetes_prob</th>\n",
       "      <th>cardio_prob</th>\n",
       "    </tr>\n",
       "  </thead>\n",
       "  <tbody>\n",
       "    <tr>\n",
       "      <th>0</th>\n",
       "      <td>Jason</td>\n",
       "      <td>41</td>\n",
       "      <td>0</td>\n",
       "      <td>1500</td>\n",
       "      <td>06/16/2020</td>\n",
       "      <td>1.0</td>\n",
       "      <td>1.0</td>\n",
       "    </tr>\n",
       "    <tr>\n",
       "      <th>1</th>\n",
       "      <td>Kevin</td>\n",
       "      <td>35</td>\n",
       "      <td>0</td>\n",
       "      <td>1000</td>\n",
       "      <td>03/02/2019</td>\n",
       "      <td>0.2</td>\n",
       "      <td>0.8</td>\n",
       "    </tr>\n",
       "    <tr>\n",
       "      <th>2</th>\n",
       "      <td>Katie</td>\n",
       "      <td>36</td>\n",
       "      <td>1</td>\n",
       "      <td>700</td>\n",
       "      <td>02/28/2019</td>\n",
       "      <td>0.6</td>\n",
       "      <td>0.1</td>\n",
       "    </tr>\n",
       "    <tr>\n",
       "      <th>3</th>\n",
       "      <td>Clement</td>\n",
       "      <td>41</td>\n",
       "      <td>0</td>\n",
       "      <td>1700</td>\n",
       "      <td>2022/08/26</td>\n",
       "      <td>1.0</td>\n",
       "      <td>1.0</td>\n",
       "    </tr>\n",
       "  </tbody>\n",
       "</table>\n",
       "</div>"
      ],
      "text/plain": [
       "      name  age  sex  quote        date  diabetes_prob  cardio_prob\n",
       "0    Jason   41    0   1500  06/16/2020            1.0          1.0\n",
       "1    Kevin   35    0   1000  03/02/2019            0.2          0.8\n",
       "2    Katie   36    1    700  02/28/2019            0.6          0.1\n",
       "3  Clement   41    0   1700  2022/08/26            1.0          1.0"
      ]
     },
     "execution_count": 77,
     "metadata": {},
     "output_type": "execute_result"
    }
   ],
   "source": [
    "date = '2022/08/26'\n",
    "new_order = [name, age, sex, new_quote, date, diabetes_prob, cardio_prob]\n",
    "db2.loc[len(db2)] = new_order\n",
    "db2"
   ]
  },
  {
   "cell_type": "code",
   "execution_count": 78,
   "id": "1f136c28-84b0-4637-9168-078f27906e65",
   "metadata": {},
   "outputs": [],
   "source": [
    "db2.to_csv('db2.csv', index=False)"
   ]
  },
  {
   "cell_type": "code",
   "execution_count": null,
   "id": "103e2d9b-e0b7-436a-8521-3f2f9a8ca3fb",
   "metadata": {},
   "outputs": [],
   "source": []
  }
 ],
 "metadata": {
  "kernelspec": {
   "display_name": "Python 3 (ipykernel)",
   "language": "python",
   "name": "python3"
  },
  "language_info": {
   "codemirror_mode": {
    "name": "ipython",
    "version": 3
   },
   "file_extension": ".py",
   "mimetype": "text/x-python",
   "name": "python",
   "nbconvert_exporter": "python",
   "pygments_lexer": "ipython3",
   "version": "3.9.12"
  }
 },
 "nbformat": 4,
 "nbformat_minor": 5
}
